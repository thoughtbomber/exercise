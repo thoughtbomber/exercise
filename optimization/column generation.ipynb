{
 "cells": [
  {
   "cell_type": "markdown",
   "source": [
    "Note: This notebook is an implementation of the problem collected in H. Paul Williams - Model Building in Mathematical Programming. "
   ],
   "metadata": {
    "collapsed": false
   },
   "id": "5914736af6c4e384"
  },
  {
   "cell_type": "markdown",
   "source": [
    "# Description of the problem"
   ],
   "metadata": {
    "collapsed": false
   },
   "id": "4eb17988231d472f"
  },
  {
   "cell_type": "code",
   "execution_count": 61,
   "outputs": [],
   "source": [
    "from pyomo.environ import *\n",
    "from pyomo.opt import SolverFactory"
   ],
   "metadata": {
    "collapsed": false,
    "ExecuteTime": {
     "end_time": "2024-04-22T14:25:09.358763100Z",
     "start_time": "2024-04-22T14:25:09.333764700Z"
    }
   },
   "id": "9433a9c270fcb508"
  },
  {
   "cell_type": "markdown",
   "source": [
    "Suppose a plumber stocks standard lengths of pipe, all of length 19 m. He has orders for\n",
    "\n",
    "    1. 12 lengths of 4 m\n",
    "    2. 15 lengths of 5 m\n",
    "    3. 22 lengths of 6 m"
   ],
   "metadata": {
    "collapsed": false
   },
   "id": "cc9a8e084d7dec85"
  },
  {
   "cell_type": "markdown",
   "source": [
    "# Solved by column generation"
   ],
   "metadata": {
    "collapsed": false
   },
   "id": "bf8ea90d26dc3e"
  },
  {
   "cell_type": "markdown",
   "source": [
    "## The first round"
   ],
   "metadata": {
    "collapsed": false
   },
   "id": "8a1845991c95368c"
  },
  {
   "cell_type": "markdown",
   "source": [
    "Under column generation, we should turn to another way of formulation\n",
    "\n",
    "$\\gamma_{j}$: number of times pattern j is used\n",
    "    \n",
    "Then we should find minimum of such patterns\n",
    "    \n",
    "Minimize $\\gamma_{1} + \\gamma_{2} + \\gamma_{3}$\n",
    "subject to $2\\gamma_{1} + 2\\gamma_{2} + \\gamma_{3} \\ge 12$\n",
    "$2\\gamma_{1} + \\gamma_{2} + 3\\gamma_{3} \\ge 15$\n",
    "$\\gamma_{2} \\ge 22$\n",
    "\n",
    "We can solve it with Pyomo and GLPK like below"
   ],
   "metadata": {
    "collapsed": false
   },
   "id": "5d16108410daf850"
  },
  {
   "cell_type": "code",
   "execution_count": 62,
   "outputs": [],
   "source": [
    "# Initialization\n",
    "model = ConcreteModel()\n",
    "model.gamma_idx_set1 = Set(initialize=range(3)) \n",
    "model.gamma_var_set1 = Var(model.gamma_idx_set1, domain=NonNegativeIntegers)\n",
    "\n",
    "# Set up objective\n",
    "# var for var in model.gamma_var_set1 does not work as expected\n",
    "model.obj = Objective(rule=sum(model.gamma_var_set1[i] for i in model.gamma_idx_set1), sense=minimize)\n",
    "\n",
    "# Set up constraints\n",
    "model.constraint_set1 = ConstraintList()\n",
    "model.constraint_set1.add(2 * model.gamma_var_set1[0] + 2 * model.gamma_var_set1[1] + model.gamma_var_set1[2] >= 12)\n",
    "model.constraint_set1.add(2 * model.gamma_var_set1[0] + model.gamma_var_set1[1] + 3 * model.gamma_var_set1[2] >= 15)\n",
    "model.constraint_set1.add(model.gamma_var_set1[1] >= 22)\n",
    "\n",
    "# Create solver and solve1\n",
    "optm = SolverFactory('glpk')\n",
    "result = optm.solve(model)"
   ],
   "metadata": {
    "collapsed": false,
    "ExecuteTime": {
     "end_time": "2024-04-22T14:25:09.421106400Z",
     "start_time": "2024-04-22T14:25:09.345764200Z"
    }
   },
   "id": "5ad426aa71e593ad"
  },
  {
   "cell_type": "markdown",
   "source": [],
   "metadata": {
    "collapsed": false
   },
   "id": "1170e49746ad1bbb"
  },
  {
   "cell_type": "markdown",
   "source": [
    "The optimal objective is "
   ],
   "metadata": {
    "collapsed": false
   },
   "id": "7bbeb11e3411bacc"
  },
  {
   "cell_type": "code",
   "execution_count": 63,
   "outputs": [
    {
     "data": {
      "text/plain": "{'Problem': [{'Name': 'unknown', 'Lower bound': 22.0, 'Upper bound': 22.0, 'Number of objectives': 1, 'Number of constraints': 3, 'Number of variables': 3, 'Number of nonzeros': 7, 'Sense': 'minimize'}], 'Solver': [{'Status': 'ok', 'Termination condition': 'optimal', 'Statistics': {'Branch and bound': {'Number of bounded subproblems': 0, 'Number of created subproblems': 0}}, 'Error rc': 0, 'Time': 0.037573814392089844}], 'Solution': [OrderedDict([('number of solutions', 0), ('number of solutions displayed', 0)])]}"
     },
     "execution_count": 63,
     "metadata": {},
     "output_type": "execute_result"
    }
   ],
   "source": [
    "result"
   ],
   "metadata": {
    "collapsed": false,
    "ExecuteTime": {
     "end_time": "2024-04-22T14:25:09.434606300Z",
     "start_time": "2024-04-22T14:25:09.410079400Z"
    }
   },
   "id": "f0126fdbb064d0d5"
  },
  {
   "cell_type": "code",
   "execution_count": 64,
   "outputs": [
    {
     "data": {
      "text/plain": "22.0"
     },
     "execution_count": 64,
     "metadata": {},
     "output_type": "execute_result"
    }
   ],
   "source": [
    "value(model.obj)"
   ],
   "metadata": {
    "collapsed": false,
    "ExecuteTime": {
     "end_time": "2024-04-22T14:25:09.450729500Z",
     "start_time": "2024-04-22T14:25:09.425086Z"
    }
   },
   "id": "b3d12c21b31555be"
  },
  {
   "cell_type": "markdown",
   "source": [
    "The optimal solution for variables are"
   ],
   "metadata": {
    "collapsed": false
   },
   "id": "5ea8407e670ae512"
  },
  {
   "cell_type": "code",
   "execution_count": 65,
   "outputs": [
    {
     "data": {
      "text/plain": "{0: 0.0, 1: 22.0, 2: 0.0}"
     },
     "execution_count": 65,
     "metadata": {},
     "output_type": "execute_result"
    }
   ],
   "source": [
    "model.gamma_var_set1.extract_values()"
   ],
   "metadata": {
    "collapsed": false,
    "ExecuteTime": {
     "end_time": "2024-04-22T14:25:09.496839900Z",
     "start_time": "2024-04-22T14:25:09.438603700Z"
    }
   },
   "id": "f7f514c119a6244b"
  },
  {
   "cell_type": "markdown",
   "source": [
    "Therefore, we see that we arrive at 22 for pattern 2 as optima"
   ],
   "metadata": {
    "collapsed": false
   },
   "id": "66fa9bb7b48bca7a"
  }
 ],
 "metadata": {
  "kernelspec": {
   "display_name": "Python 3",
   "language": "python",
   "name": "python3"
  },
  "language_info": {
   "codemirror_mode": {
    "name": "ipython",
    "version": 2
   },
   "file_extension": ".py",
   "mimetype": "text/x-python",
   "name": "python",
   "nbconvert_exporter": "python",
   "pygments_lexer": "ipython2",
   "version": "2.7.6"
  }
 },
 "nbformat": 4,
 "nbformat_minor": 5
}
